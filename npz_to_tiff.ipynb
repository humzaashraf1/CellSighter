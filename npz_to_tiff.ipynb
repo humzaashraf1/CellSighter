{
 "cells": [
  {
   "cell_type": "code",
   "execution_count": null,
   "metadata": {},
   "outputs": [
    {
     "name": "stdout",
     "output_type": "stream",
     "text": [
      "Saved TIFF as 14_ZYX.tiff with shape: (25, 2048, 2048)\n"
     ]
    }
   ],
   "source": [
    "import numpy as np\n",
    "import tifffile\n",
    "\n",
    "data = np.load('14.npz')['data']\n",
    "\n",
    "data_z_y_x = np.moveaxis(data, -1, 0)\n",
    "\n",
    "tifffile.imwrite(\n",
    "    '14_ZYX.tiff',\n",
    "    data_z_y_x,\n",
    "    photometric='minisblack',\n",
    "    metadata={'axes': 'ZYX'},\n",
    ")\n",
    "\n",
    "print(\"Saved TIFF as 14_ZYX.tiff with shape:\", data_z_y_x.shape)\n"
   ]
  }
 ],
 "metadata": {
  "kernelspec": {
   "display_name": "base",
   "language": "python",
   "name": "python3"
  },
  "language_info": {
   "codemirror_mode": {
    "name": "ipython",
    "version": 3
   },
   "file_extension": ".py",
   "mimetype": "text/x-python",
   "name": "python",
   "nbconvert_exporter": "python",
   "pygments_lexer": "ipython3",
   "version": "3.12.2"
  }
 },
 "nbformat": 4,
 "nbformat_minor": 2
}
